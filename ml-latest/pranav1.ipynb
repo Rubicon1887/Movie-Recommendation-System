{
 "cells": [
  {
   "cell_type": "code",
   "execution_count": 4,
   "metadata": {},
   "outputs": [
    {
     "ename": "ModuleNotFoundError",
     "evalue": "No module named 'surprise'",
     "output_type": "error",
     "traceback": [
      "\u001b[1;31m---------------------------------------------------------------------------\u001b[0m",
      "\u001b[1;31mModuleNotFoundError\u001b[0m                       Traceback (most recent call last)",
      "\u001b[1;32m<ipython-input-4-36cd92d1261f>\u001b[0m in \u001b[0;36m<module>\u001b[1;34m\u001b[0m\n\u001b[0;32m      4\u001b[0m \u001b[1;32mfrom\u001b[0m \u001b[0mtkinter\u001b[0m \u001b[1;32mimport\u001b[0m \u001b[0mttk\u001b[0m\u001b[1;33m\u001b[0m\u001b[1;33m\u001b[0m\u001b[0m\n\u001b[0;32m      5\u001b[0m \u001b[1;33m\u001b[0m\u001b[0m\n\u001b[1;32m----> 6\u001b[1;33m \u001b[1;32mfrom\u001b[0m \u001b[0msurprise\u001b[0m \u001b[1;32mimport\u001b[0m \u001b[0mSVD\u001b[0m\u001b[1;33m\u001b[0m\u001b[1;33m\u001b[0m\u001b[0m\n\u001b[0m\u001b[0;32m      7\u001b[0m \u001b[1;32mfrom\u001b[0m \u001b[0msurprise\u001b[0m \u001b[1;32mimport\u001b[0m \u001b[0mDataset\u001b[0m\u001b[1;33m,\u001b[0m\u001b[0mReader\u001b[0m\u001b[1;33m\u001b[0m\u001b[1;33m\u001b[0m\u001b[0m\n\u001b[0;32m      8\u001b[0m \u001b[1;32mfrom\u001b[0m \u001b[0msurprise\u001b[0m\u001b[1;33m.\u001b[0m\u001b[0mmodel_selection\u001b[0m \u001b[1;32mimport\u001b[0m \u001b[0mcross_validate\u001b[0m\u001b[1;33m\u001b[0m\u001b[1;33m\u001b[0m\u001b[0m\n",
      "\u001b[1;31mModuleNotFoundError\u001b[0m: No module named 'surprise'"
     ]
    }
   ],
   "source": [
    "from tkinter import *\n",
    "from tkinter import messagebox\n",
    "import pandas as pd\n",
    "from tkinter import ttk \n",
    "\n",
    "from surprise import SVD\n",
    "from surprise import Dataset,Reader\n",
    "from surprise.model_selection import cross_validate\n",
    "from surprise import accuracy\n",
    "from surprise.model_selection import train_test_split\n",
    "\n",
    "movies=pd.read_csv('ml-100k/movies.csv')\n",
    "ratings=pd.read_csv('ml-100k/ratings.csv')\n",
    "\n",
    "def recommend():\n",
    "    s.quit()\n",
    "    movie=[i.get() for i in movlist]\n",
    "    rat=[i.get() for i in tkvar]\n",
    "    mid=[name_to_mid(i) for i in movie]\n",
    "    # print(ids)\n",
    "    # print(rats)\n",
    "    rating=add_user_ratings(mid, rat,ratings)\n",
    "    svd=calc_rating(rating)\n",
    "    movs,r=rec_movies(movies, svd)\n",
    "    s.destroy()\n",
    "    win = Tk()\n",
    "    win.title(\"Movies\")\n",
    "    win.geometry('400x300')\n",
    "    win.configure(bg='tan2')\n",
    "     \n",
    "    print('test')\n",
    "    Label(win,bg='tan2',fg='white',padx=5,pady=4, text=\"Recommended Movies:\").grid(row=0, column=2)\n",
    "    Label(win,bg='tan2',fg='white',padx=5,pady=4, text=\"Predicted rating:\").grid(row=0, column=3)\n",
    "    for i,j in enumerate(movs):\n",
    "        Label(win,bg='tan2',fg='white',padx=5,pady=4, text=j).grid(row=i+1, column=2)\n",
    "        Label(win,bg='tan2',fg='white',padx=5,pady=4, text=r[i]).grid(row=i+1, column=3)\n",
    "    win.mainloop() \n",
    "\n",
    "\n",
    "def rec_movies(movies, svd):\n",
    "    movies['est'] = movies['movieId'].apply(lambda x: svd.predict(672, x).est)\n",
    "    movies = movies.sort_values('est', ascending=False)\n",
    "    # movies.head(10)\n",
    "    return (list(movies.head(10)['title']),list(movies.head(10)['est']))\n",
    "\n",
    "\n",
    "def calc_rating(rating):\n",
    "    reader = Reader(rating_scale=(1, 5))\n",
    "    data = Dataset.load_from_df(\n",
    "        ratings[['userId', 'movieId', 'rating']], reader)\n",
    "    trainset, testset = train_test_split(data, test_size=.25)\n",
    "\n",
    "    svd = SVD()\n",
    "\n",
    "    svd.fit(trainset)\n",
    "    return svd    \n",
    "\n",
    "def add_user_ratings(mid, rat,ratings):\n",
    "    new_user = pd.DataFrame({'userId': [672]*10,\n",
    "                             'movieId': mid,\n",
    "                             'rating': rat\n",
    "                             })\n",
    "    ratings=ratings.append(new_user)\n",
    "    return ratings\n",
    "\n",
    "def name_to_mid(movie):\n",
    "    return int(movies.movieId[movies.title == movie])\n",
    "\n",
    "\n",
    "s = Tk()\n",
    "s.title(\"Movie Recommendation System\")\n",
    "s.geometry('600x800')\n",
    "s.configure(bg='tan2')\n",
    "movlist=[]\n",
    "popupMenu=[]\n",
    "tkvar=[]\n",
    "for i in range(10):\n",
    "    Label(s, text=\"Movie Name: \",fg='white',bg='tan2').grid(row=i, column=1)\n",
    "    n=StringVar()\n",
    "    movlist.append(s) \n",
    "    # movlist.append(ttk.Combobox(s, width = 27, textvariable = n) )\n",
    "    movlist[i].set_completion_list(tuple(movies.title)) \n",
    "    # movlist[i]['values'] = tuple(movies.title)\n",
    "    movlist[i].grid(column = 2, row = i) \n",
    "    choices = { 1,2,3,4,5}\n",
    "    tkvar.append(StringVar(s))\n",
    "    tkvar[i].set(3) # set the default option\n",
    "\n",
    "    popupMenu.append(OptionMenu(s,  tkvar[i], *choices,))\n",
    "    Label(s, text=\"Choose a rating: \",bg='tan2',fg='white').grid(row = i, column = 4)\n",
    "    popupMenu[i].grid(row = i, column =5)\n",
    "Button(s, text=\"Submit\",bg='orange1',borderwidth=4,fg='white', command=recommend).grid(row=12, column=3,padx=5,pady=4)\n",
    "\n",
    "s.mainloop()  \n"
   ]
  },
  {
   "cell_type": "code",
   "execution_count": 6,
   "metadata": {},
   "outputs": [
    {
     "ename": "AttributeError",
     "evalue": "module 'pip' has no attribute 'main'",
     "output_type": "error",
     "traceback": [
      "\u001b[1;31m---------------------------------------------------------------------------\u001b[0m",
      "\u001b[1;31mAttributeError\u001b[0m                            Traceback (most recent call last)",
      "\u001b[1;32m<ipython-input-6-fcb21fc61bb4>\u001b[0m in \u001b[0;36m<module>\u001b[1;34m\u001b[0m\n\u001b[0;32m      1\u001b[0m \u001b[1;32mimport\u001b[0m \u001b[0mpip\u001b[0m\u001b[1;33m\u001b[0m\u001b[1;33m\u001b[0m\u001b[0m\n\u001b[1;32m----> 2\u001b[1;33m \u001b[0mpip\u001b[0m\u001b[1;33m.\u001b[0m\u001b[0mmain\u001b[0m\u001b[1;33m(\u001b[0m\u001b[1;33m[\u001b[0m\u001b[1;34m'install'\u001b[0m\u001b[1;33m,\u001b[0m \u001b[1;34m'--user'\u001b[0m\u001b[1;33m,\u001b[0m \u001b[1;34m'scipy'\u001b[0m\u001b[1;33m]\u001b[0m\u001b[1;33m)\u001b[0m\u001b[1;33m\u001b[0m\u001b[1;33m\u001b[0m\u001b[0m\n\u001b[0m",
      "\u001b[1;31mAttributeError\u001b[0m: module 'pip' has no attribute 'main'"
     ]
    }
   ],
   "source": [
    "import pip\n",
    "pip.main(['install', '--user', 'scipy'])"
   ]
  },
  {
   "cell_type": "code",
   "execution_count": null,
   "metadata": {},
   "outputs": [],
   "source": []
  }
 ],
 "metadata": {
  "kernelspec": {
   "display_name": "Python 3",
   "language": "python",
   "name": "python3"
  },
  "language_info": {
   "codemirror_mode": {
    "name": "ipython",
    "version": 3
   },
   "file_extension": ".py",
   "mimetype": "text/x-python",
   "name": "python",
   "nbconvert_exporter": "python",
   "pygments_lexer": "ipython3",
   "version": "3.7.4"
  }
 },
 "nbformat": 4,
 "nbformat_minor": 2
}
